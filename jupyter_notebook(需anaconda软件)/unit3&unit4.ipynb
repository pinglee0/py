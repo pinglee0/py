{
 "cells": [
  {
   "cell_type": "code",
   "execution_count": 4,
   "id": "73773f3e",
   "metadata": {},
   "outputs": [
    {
     "name": "stdout",
     "output_type": "stream",
     "text": [
      "['trek', 'cannondale', 'redline', 'specialized']\n",
      "cannondale\n",
      "Cannondale\n",
      "specialized\n",
      "My first bicycle was a Trek.\n"
     ]
    }
   ],
   "source": [
    "bicycles = ['trek', 'cannondale', 'redline', 'specialized'] \n",
    "print(bicycles)\n",
    "print(bicycles[1])\n",
    "print(bicycles[1].title())\n",
    "print(bicycles[-1])\n",
    "message = \"My first bicycle was a \" + bicycles[0].title() + \".\" \n",
    "print(message)"
   ]
  },
  {
   "cell_type": "code",
   "execution_count": 10,
   "id": "d3f05d6e",
   "metadata": {},
   "outputs": [
    {
     "name": "stdout",
     "output_type": "stream",
     "text": [
      "['honda', 'yamaha', 'suzuki']\n",
      "['ducati', 'honda', 'yamaha', 'suzuki']\n",
      "['ducati', 'yamaha', 'suzuki']\n",
      "['yamaha', 'suzuki'] suzuki\n",
      "['yamaha'] suzuki\n"
     ]
    }
   ],
   "source": [
    "motorcycles = []\n",
    "motorcycles.append('honda') \n",
    "motorcycles.append('yamaha') \n",
    "motorcycles.append('suzuki') \n",
    "print(motorcycles)\n",
    "motorcycles.insert(0, 'ducati')\n",
    "print(motorcycles)\n",
    "del motorcycles[1]\n",
    "print(motorcycles)\n",
    "popped_motorcycle2 = motorcycles.pop(0)\n",
    "print(motorcycles,popped_motorcycle)\n",
    "popped_motorcycle = motorcycles.pop()\n",
    "print(motorcycles,popped_motorcycle)"
   ]
  },
  {
   "cell_type": "code",
   "execution_count": 14,
   "id": "0c7669f7",
   "metadata": {},
   "outputs": [
    {
     "name": "stdout",
     "output_type": "stream",
     "text": [
      "['honda', 'yamaha', 'suzuki', 'ducati']\n",
      "['honda', 'yamaha', 'suzuki']\n",
      "\n",
      " A Ducati is too expensive for me.\n"
     ]
    }
   ],
   "source": [
    "motorcycles = ['honda', 'yamaha', 'suzuki', 'ducati'] \n",
    "print(motorcycles)\n",
    "too_expensive = 'ducati' \n",
    "motorcycles.remove(too_expensive) \n",
    "print(motorcycles)"
   ]
  },
  {
   "cell_type": "code",
   "execution_count": 17,
   "id": "1008640d",
   "metadata": {},
   "outputs": [
    {
     "name": "stdout",
     "output_type": "stream",
     "text": [
      "Here is the original list:\n",
      "['bmw', 'audi', 'toyota', 'subaru']\n",
      "Here is the sorted list:\n",
      "['audi', 'bmw', 'subaru', 'toyota']\n",
      "Here is the original list again:\n",
      "['bmw', 'audi', 'toyota', 'subaru']\n",
      "['audi', 'bmw', 'subaru', 'toyota']\n",
      "['toyota', 'subaru', 'bmw', 'audi']\n",
      "4\n"
     ]
    }
   ],
   "source": [
    "cars = ['bmw', 'audi', 'toyota', 'subaru']\n",
    "print(\"Here is the original list:\") \n",
    "print(cars)\n",
    "print(\"Here is the sorted list:\") \n",
    "print(sorted(cars))\n",
    "print(\"Here is the original list again:\") \n",
    "print(cars)\n",
    "cars.sort()\n",
    "print(cars)\n",
    "cars.reverse()\n",
    "print(cars)\n",
    "print(len(cars))"
   ]
  },
  {
   "cell_type": "code",
   "execution_count": 19,
   "id": "c682e53c",
   "metadata": {},
   "outputs": [
    {
     "name": "stdout",
     "output_type": "stream",
     "text": [
      "That was a great trick,Alice!\n",
      "That was a great trick,David!\n",
      "That was a great trick,Carolina!\n",
      "I can't wait to see your next trick, Carolina.\n",
      "\n"
     ]
    }
   ],
   "source": [
    "#Unit4\n",
    "magicians = ['alice', 'david', 'carolina'] \n",
    "for magician in magicians:\n",
    "    print(\"That was a great trick,\"+magician.title()+\"!\")\n",
    "print(\"I can't wait to see your next trick, \" + magician.title() + \".\\n\")"
   ]
  },
  {
   "cell_type": "code",
   "execution_count": 27,
   "id": "1575201e",
   "metadata": {},
   "outputs": [
    {
     "name": "stdout",
     "output_type": "stream",
     "text": [
      "0\n",
      "1\n",
      "2\n",
      "3\n",
      "4\n",
      "5\n",
      "\n",
      "1\n",
      "2\n",
      "3\n",
      "4\n",
      "5\n",
      "[2, 4, 6, 8, 10]\n",
      "3\n",
      "5\n",
      "7\n",
      "9\n"
     ]
    }
   ],
   "source": [
    "for value in range(6):\n",
    "    print(value)\n",
    "print()\n",
    "for value in range(1,6):\n",
    "    print(value)\n",
    "even_numbers =list(range(2,11,2)) \n",
    "print(even_numbers)\n",
    "for value in range(3,11,2):\n",
    "    print(value)"
   ]
  },
  {
   "cell_type": "code",
   "execution_count": 29,
   "id": "7240c264",
   "metadata": {},
   "outputs": [
    {
     "name": "stdout",
     "output_type": "stream",
     "text": [
      "[1, 4, 9, 16, 25, 36, 49, 64, 81, 100]\n",
      "[1, 4, 9, 16, 25, 36, 49, 64, 81, 100]\n"
     ]
    }
   ],
   "source": [
    "squares = []\n",
    "for value in range(1,11):\n",
    "    square = value**2\n",
    "    squares.append(square)\n",
    "print(squares)\n",
    "squares = []\n",
    "for value in range(1,11):\n",
    "    square = value**2\n",
    "    squares.append(square)\n",
    "print(squares)"
   ]
  },
  {
   "cell_type": "code",
   "execution_count": 31,
   "id": "a2ddc9eb",
   "metadata": {},
   "outputs": [
    {
     "name": "stdout",
     "output_type": "stream",
     "text": [
      "0 9 45\n"
     ]
    }
   ],
   "source": [
    "digits = [1, 2, 3, 4, 5, 6, 7, 8, 9, 0]\n",
    "print(min(digits),max(digits),sum(digits))"
   ]
  },
  {
   "cell_type": "code",
   "execution_count": 35,
   "id": "ed631fb4",
   "metadata": {},
   "outputs": [
    {
     "name": "stdout",
     "output_type": "stream",
     "text": [
      "['charles', 'martina', 'michael']\n",
      "['martina', 'michael', 'florence']\n",
      "['charles', 'martina', 'michael', 'florence']\n",
      "['michael', 'florence', 'eli']\n",
      "['michael', 'florence', 'eli']\n",
      "Here are the first three players on my team:\n",
      "Charles\n",
      "Martina\n",
      "Michael\n"
     ]
    }
   ],
   "source": [
    "players = ['charles', 'martina', 'michael', 'florence', 'eli']\n",
    "print(players[0:3])\n",
    "print(players[1:4])\n",
    "print(players[:4])\n",
    "print(players[2:])\n",
    "print(players[-3:])\n",
    "print(\"Here are the first three players on my team:\")\n",
    "for player in players[:3]:\n",
    "    print(player.title())"
   ]
  },
  {
   "cell_type": "code",
   "execution_count": 43,
   "id": "5f3c1c1c",
   "metadata": {},
   "outputs": [
    {
     "name": "stdout",
     "output_type": "stream",
     "text": [
      "True True\n",
      "['pizza', 'falafel', 'carrot cake']\n",
      "['pizza', 'falafel', 'carrot cake'] \n",
      "\n",
      "['pizza', 'falafel', 'carrot cake']\n",
      "['pizza', 'falafel', 'carrot cake', 'cannoli']\n",
      "False True\n"
     ]
    }
   ],
   "source": [
    "my_foods = ['pizza', 'falafel', 'carrot cake']\n",
    "friend1_foods = my_foods[:]\n",
    "friend2_foods = my_foods\n",
    "print(my_foods)\n",
    "print(friend1_foods,\"\\n\")\n",
    "my_foods.append('cannoli')\n",
    "print(friend1_foods)\n",
    "print(friend2_foods)"
   ]
  },
  {
   "cell_type": "code",
   "execution_count": 49,
   "id": "535c6785",
   "metadata": {},
   "outputs": [
    {
     "name": "stdout",
     "output_type": "stream",
     "text": [
      "200\n",
      "50\n",
      "\n",
      "Modified:\n",
      "400\n",
      "100\n"
     ]
    }
   ],
   "source": [
    "#Tuple\n",
    "dimensions = (200, 50)  \n",
    "for dimension in dimensions:\n",
    "    print(dimension)\n",
    "#dimensions[0] = 250\n",
    "print(\"\\nModified:\") \n",
    "dimensions = (400, 100)\n",
    "for dimension in dimensions:\n",
    "    print(dimension)"
   ]
  },
  {
   "cell_type": "code",
   "execution_count": 53,
   "id": "d9851c04",
   "metadata": {},
   "outputs": [
    {
     "name": "stdout",
     "output_type": "stream",
     "text": [
      "[12.1, 2, 'sd'] sd\n"
     ]
    }
   ],
   "source": [
    "a=[12.1,2,\"sd\"]\n",
    "print(a,a[2])"
   ]
  },
  {
   "cell_type": "code",
   "execution_count": 55,
   "id": "3b913397",
   "metadata": {},
   "outputs": [
    {
     "data": {
      "text/plain": [
       "1.5"
      ]
     },
     "execution_count": 55,
     "metadata": {},
     "output_type": "execute_result"
    }
   ],
   "source": [
    "x = [1, 2, 3]\n",
    "type(x)"
   ]
  },
  {
   "cell_type": "code",
   "execution_count": null,
   "id": "87a4d057",
   "metadata": {},
   "outputs": [],
   "source": []
  }
 ],
 "metadata": {
  "kernelspec": {
   "display_name": "Python 3 (ipykernel)",
   "language": "python",
   "name": "python3"
  },
  "language_info": {
   "codemirror_mode": {
    "name": "ipython",
    "version": 3
   },
   "file_extension": ".py",
   "mimetype": "text/x-python",
   "name": "python",
   "nbconvert_exporter": "python",
   "pygments_lexer": "ipython3",
   "version": "3.9.12"
  }
 },
 "nbformat": 4,
 "nbformat_minor": 5
}
