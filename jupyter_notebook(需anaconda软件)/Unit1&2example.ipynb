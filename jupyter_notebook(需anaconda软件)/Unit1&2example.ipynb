{
 "cells": [
  {
   "cell_type": "code",
   "execution_count": null,
   "id": "8f8b57ac",
   "metadata": {},
   "outputs": [],
   "source": [
    "print(\"Hello Python world!\")"
   ]
  },
  {
   "cell_type": "code",
   "execution_count": null,
   "id": "f5f7b66d",
   "metadata": {},
   "outputs": [],
   "source": [
    "message = \"Hello Python world!\"\n",
    "print(message)\n",
    "\n",
    "message = \"Hello Python Crash Course world!\"\n",
    "print(message)"
   ]
  },
  {
   "cell_type": "code",
   "execution_count": null,
   "id": "9feb5d2b",
   "metadata": {},
   "outputs": [],
   "source": [
    "message = \"Hello Python Crash Course reader!\" \n",
    "print(mesage)"
   ]
  },
  {
   "cell_type": "code",
   "execution_count": null,
   "id": "a12c3a8f",
   "metadata": {},
   "outputs": [],
   "source": [
    "#String\n",
    "print('This is also a string.') \n",
    "print(\"This_is_still_a_string\") \n",
    "print('I can even put \"this is a string\" into a string.')\n",
    "#print(\"I cannot put \"this is a string\" into a string like this.\")"
   ]
  },
  {
   "cell_type": "code",
   "execution_count": null,
   "id": "f1f842f9",
   "metadata": {},
   "outputs": [],
   "source": [
    "name = \"ada loveLace\"\n",
    "print(name.upper())\n",
    "print(name.lower())\n",
    "print(name.title())"
   ]
  },
  {
   "cell_type": "code",
   "execution_count": null,
   "id": "a5380fdc",
   "metadata": {},
   "outputs": [],
   "source": [
    "name = \"python programming\"\n",
    "print(name.title())\n",
    "\n",
    "name = \"Python Programming\"\n",
    "print(name.upper())\n",
    "print(name.lower())\n"
   ]
  },
  {
   "cell_type": "code",
   "execution_count": null,
   "id": "76ad63a4",
   "metadata": {},
   "outputs": [],
   "source": [
    "first_name = \"ada\"\n",
    "last_name = \"lovelace\"\n",
    "full_name = f\"{first_name} {last_name}\"\n",
    "message = f\"Hello, {full_name.title()}!\"\n",
    "print(message)"
   ]
  },
  {
   "cell_type": "code",
   "execution_count": null,
   "id": "2ad40d11",
   "metadata": {},
   "outputs": [],
   "source": [
    "first_name =  \"Xiaolei\"\n",
    "last_name =  \"Li\"\n",
    "full_name= first_name +  \"\"+ last_name\n",
    "print(full_name)\n",
    "print( \"Hello \" + first_name + last_name +  \"! \")\n"
   ]
  },
  {
   "cell_type": "code",
   "execution_count": null,
   "id": "4800f2a2",
   "metadata": {},
   "outputs": [],
   "source": [
    "print(\"Languages:\\nPython\\nC\\nJavaScript\")\n",
    "print(\"\\tLanguages:\\nPython\\nC\\nJavaScript\")\n",
    "print(\"\\take \\nike\")\n",
    "print(\"\\\\take \\\\nike\")"
   ]
  },
  {
   "cell_type": "code",
   "execution_count": null,
   "id": "507e53a7",
   "metadata": {},
   "outputs": [],
   "source": [
    "favorite_language = \"   Python   \"\n",
    "print(favorite_language.rstrip())\n",
    "print(favorite_language.lstrip())\n",
    "print(favorite_language.strip())"
   ]
  },
  {
   "cell_type": "code",
   "execution_count": null,
   "id": "04c4ab49",
   "metadata": {},
   "outputs": [],
   "source": [
    "#2.2\n",
    "num=\"eric\"\n",
    "print(f\"Hello {num} ,would you like to learn some Python today?\")\n",
    "print(num.title(),num.upper(),num.lower())\n",
    "print('Albert Einstein once said, \"A person who never made a mistake never tried anything new.\"')\n",
    "famous_person='Albert Einstein'\n",
    "print(f'{famous_person} once said, \"A person who never made a mistake never tried anything new.\"')\n",
    "num2='   /tAlbert/n Einstein   '\n",
    "print(num2.rstrip())\n",
    "print(num2.lstrip())\n",
    "print(num2.strip())"
   ]
  },
  {
   "cell_type": "code",
   "execution_count": null,
   "id": "a0ce151e",
   "metadata": {},
   "outputs": [],
   "source": [
    "print(3 / 2)\n",
    "print(10 ** 6)\n",
    "print(2 + 3*4)\n",
    "print((2 + 3)*4)\n",
    "print(2 * 0.1) \n",
    "print(2 ** 0.1) \n",
    "print(0.2 + 0.1,3 * 0.1) \n",
    "x,y,z=0,1.2,3\n",
    "print(x,y,z) "
   ]
  },
  {
   "cell_type": "code",
   "execution_count": null,
   "id": "7143c420",
   "metadata": {},
   "outputs": [],
   "source": [
    "#Comments \n",
    "#Say hello to everyone.\n",
    "#print(\"Hello Python !\")\n",
    "print(\"Hello Python !\")"
   ]
  },
  {
   "cell_type": "code",
   "execution_count": null,
   "id": "cb866d8d",
   "metadata": {},
   "outputs": [],
   "source": [
    "print(5+3)\n",
    "print(9-1)\n",
    "print(2*4)\n",
    "print(16/2)\n",
    "print(int(16/2))"
   ]
  },
  {
   "cell_type": "code",
   "execution_count": null,
   "id": "6406d918",
   "metadata": {},
   "outputs": [],
   "source": [
    "num=9\n",
    "print(f\"{num} is my favorite number\")"
   ]
  },
  {
   "cell_type": "code",
   "execution_count": null,
   "id": "22d303f3",
   "metadata": {},
   "outputs": [],
   "source": []
  }
 ],
 "metadata": {
  "kernelspec": {
   "display_name": "Python 3 (ipykernel)",
   "language": "python",
   "name": "python3"
  },
  "language_info": {
   "codemirror_mode": {
    "name": "ipython",
    "version": 3
   },
   "file_extension": ".py",
   "mimetype": "text/x-python",
   "name": "python",
   "nbconvert_exporter": "python",
   "pygments_lexer": "ipython3",
   "version": "3.9.12"
  }
 },
 "nbformat": 4,
 "nbformat_minor": 5
}
