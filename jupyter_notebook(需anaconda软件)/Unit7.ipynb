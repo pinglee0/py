{
 "cells": [
  {
   "cell_type": "code",
   "execution_count": null,
   "id": "9a352fd3",
   "metadata": {},
   "outputs": [],
   "source": [
    "n = 5\n",
    "while n > 0 :    \n",
    "    print (n) \n",
    "    n = n - 1\n",
    "print ('Blastoff!')\n",
    "print (n)"
   ]
  },
  {
   "cell_type": "code",
   "execution_count": null,
   "id": "c7ae64b1",
   "metadata": {},
   "outputs": [],
   "source": [
    "n = 5\n",
    "while n > 0 :   \n",
    "    print ('Lather')   \n",
    "    print ('Rinse')\n",
    "print ('Dry off!')"
   ]
  },
  {
   "cell_type": "code",
   "execution_count": null,
   "id": "6967b4e4",
   "metadata": {},
   "outputs": [],
   "source": [
    "n = 0\n",
    "while n > 0 :    \n",
    "    print ('Lather')   \n",
    "    print ('Rinse')\n",
    "print ('Dry off!')"
   ]
  },
  {
   "cell_type": "code",
   "execution_count": null,
   "id": "42596054",
   "metadata": {},
   "outputs": [],
   "source": [
    "while True: \n",
    "    line = input('> ') \n",
    "    if line == 'done' :    \n",
    "        break   \n",
    "    print (line)\n",
    "print ('Done!')"
   ]
  },
  {
   "cell_type": "code",
   "execution_count": 15,
   "id": "314844c0",
   "metadata": {},
   "outputs": [
    {
     "name": "stdout",
     "output_type": "stream",
     "text": [
      "> done\n",
      "Done!\n"
     ]
    }
   ],
   "source": [
    "while True:  \n",
    "    line = input('> ')\n",
    "    if line[0] == '#' :    \n",
    "       continue  \n",
    "    if line == 'done' :  \n",
    "       break  \n",
    "    print (line)\n",
    "print ('Done!')"
   ]
  },
  {
   "cell_type": "code",
   "execution_count": 17,
   "id": "6a6a2973",
   "metadata": {},
   "outputs": [
    {
     "name": "stdout",
     "output_type": "stream",
     "text": [
      "Before 0 0\n",
      "1 9 9\n",
      "2 50 41\n",
      "3 62 12\n",
      "4 65 3\n",
      "5 139 74\n",
      "6 154 15\n",
      "After 6 154 25.666666666666668\n"
     ]
    }
   ],
   "source": [
    "count = 0\n",
    "sum = 0\n",
    "print ('Before', count, sum)\n",
    "for value in [9, 41, 12, 3, 74, 15] : \n",
    "    count = count + 1\n",
    "    sum = sum + value \n",
    "    print (count, sum, value)\n",
    "print ('After', count, sum, sum / count)"
   ]
  },
  {
   "cell_type": "code",
   "execution_count": 18,
   "id": "55878253",
   "metadata": {},
   "outputs": [
    {
     "name": "stdout",
     "output_type": "stream",
     "text": [
      "Before False\n",
      "False 9\n",
      "False 41\n",
      "False 12\n",
      "True 3\n",
      "True 74\n",
      "True 15\n",
      "After True\n"
     ]
    }
   ],
   "source": [
    "found = False\n",
    "print ('Before', found)\n",
    "for value in [9, 41, 12, 3, 74, 15] :  \n",
    "    if value == 3 :       \n",
    "        found = True \n",
    "    print (found, value)\n",
    "print ('After', found)"
   ]
  },
  {
   "cell_type": "code",
   "execution_count": 20,
   "id": "02129380",
   "metadata": {},
   "outputs": [
    {
     "name": "stdout",
     "output_type": "stream",
     "text": [
      "Before\n",
      "9 9\n",
      "9 41\n",
      "9 12\n",
      "3 3\n",
      "3 74\n",
      "3 15\n",
      "After 3\n"
     ]
    }
   ],
   "source": [
    "smallest = None\n",
    "print ('Before')\n",
    "for value in [9, 41, 12, 3, 74, 15] : \n",
    "     if smallest is None : \n",
    "         smallest = value   \n",
    "     elif value < smallest : \n",
    "         smallest = value   \n",
    "     print (smallest, value)\n",
    "print ('After', smallest)"
   ]
  },
  {
   "cell_type": "code",
   "execution_count": 22,
   "id": "71ed34a7",
   "metadata": {},
   "outputs": [
    {
     "name": "stdout",
     "output_type": "stream",
     "text": [
      "Before\n",
      "3 15\n",
      "After 3\n"
     ]
    }
   ],
   "source": [
    "smallest = None\n",
    "print ('Before')\n",
    "for value in [3, 41, 12, 9, 74, 15] : \n",
    "    if smallest is None : \n",
    "        smallest = value  \n",
    "    if smallest is not None : \n",
    "        if value < smallest : \n",
    "            smallest = value   \n",
    "print (smallest, value)\n",
    "print ('After', smallest)"
   ]
  },
  {
   "cell_type": "code",
   "execution_count": null,
   "id": "6befd412",
   "metadata": {},
   "outputs": [],
   "source": []
  }
 ],
 "metadata": {
  "kernelspec": {
   "display_name": "Python 3 (ipykernel)",
   "language": "python",
   "name": "python3"
  },
  "language_info": {
   "codemirror_mode": {
    "name": "ipython",
    "version": 3
   },
   "file_extension": ".py",
   "mimetype": "text/x-python",
   "name": "python",
   "nbconvert_exporter": "python",
   "pygments_lexer": "ipython3",
   "version": "3.9.12"
  }
 },
 "nbformat": 4,
 "nbformat_minor": 5
}
